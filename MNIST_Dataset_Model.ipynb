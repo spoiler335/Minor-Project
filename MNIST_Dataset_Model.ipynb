{
  "nbformat": 4,
  "nbformat_minor": 0,
  "metadata": {
    "colab": {
      "name": "MNIST Dataset Classification.ipynb",
      "provenance": [],
      "authorship_tag": "ABX9TyNFfTJaymbRqJ4qW3lv4s60",
      "include_colab_link": true
    },
    "kernelspec": {
      "name": "python3",
      "display_name": "Python 3"
    }
  },
  "cells": [
    {
      "cell_type": "markdown",
      "metadata": {
        "id": "view-in-github",
        "colab_type": "text"
      },
      "source": [
        "<a href=\"https://colab.research.google.com/github/spoiler335/Minor-Project/blob/main/MNIST_Dataset_Model.ipynb\" target=\"_parent\"><img src=\"https://colab.research.google.com/assets/colab-badge.svg\" alt=\"Open In Colab\"/></a>"
      ]
    },
    {
      "cell_type": "code",
      "metadata": {
        "id": "vmdqiFjiVfaC"
      },
      "source": [
        "import tensorflow as tf"
      ],
      "execution_count": 1,
      "outputs": []
    },
    {
      "cell_type": "code",
      "metadata": {
        "colab": {
          "base_uri": "https://localhost:8080/"
        },
        "id": "566vS7cuV4Rf",
        "outputId": "569e8a75-b26d-4fdf-bbaa-fefb2491bc81"
      },
      "source": [
        "(x_train,y_train), (x_test,y_test)=tf.keras.datasets.mnist.load_data()"
      ],
      "execution_count": 2,
      "outputs": [
        {
          "output_type": "stream",
          "text": [
            "Downloading data from https://storage.googleapis.com/tensorflow/tf-keras-datasets/mnist.npz\n",
            "11493376/11490434 [==============================] - 0s 0us/step\n"
          ],
          "name": "stdout"
        }
      ]
    },
    {
      "cell_type": "code",
      "metadata": {
        "id": "f_KfZwfy3Qru"
      },
      "source": [
        "x_train = x_train/255.0\n",
        "x_test = x_test/255.0 "
      ],
      "execution_count": 3,
      "outputs": []
    },
    {
      "cell_type": "markdown",
      "metadata": {
        "id": "AoWfai_NZ0Pb"
      },
      "source": [
        "Building the Model"
      ]
    },
    {
      "cell_type": "code",
      "metadata": {
        "id": "4prcOz8oZ2Ij"
      },
      "source": [
        "model=tf.keras.models.Sequential()\n",
        "model.add(tf.keras.layers.Flatten())\n",
        "model.add(tf.keras.layers.Dense(392,activation='relu'))\n",
        "model.add(tf.keras.layers.Dense(10,activation='softmax'))"
      ],
      "execution_count": 4,
      "outputs": []
    },
    {
      "cell_type": "code",
      "metadata": {
        "id": "nLzb8XRMbCPk"
      },
      "source": [
        "model.compile(optimizer='adam',loss='sparse_categorical_crossentropy',metrics=['accuracy'])"
      ],
      "execution_count": 5,
      "outputs": []
    },
    {
      "cell_type": "code",
      "metadata": {
        "id": "KZm-Y_RSblOo",
        "colab": {
          "base_uri": "https://localhost:8080/"
        },
        "outputId": "fc1a5452-b1fc-4c19-8c3c-8097f5140944"
      },
      "source": [
        "model.fit(x_train,y_train,epochs=10)"
      ],
      "execution_count": 6,
      "outputs": [
        {
          "output_type": "stream",
          "text": [
            "Epoch 1/10\n",
            "1875/1875 [==============================] - 7s 4ms/step - loss: 0.2100 - accuracy: 0.9380\n",
            "Epoch 2/10\n",
            "1875/1875 [==============================] - 7s 4ms/step - loss: 0.0856 - accuracy: 0.9740\n",
            "Epoch 3/10\n",
            "1875/1875 [==============================] - 6s 3ms/step - loss: 0.0552 - accuracy: 0.9829\n",
            "Epoch 4/10\n",
            "1875/1875 [==============================] - 7s 3ms/step - loss: 0.0395 - accuracy: 0.9873\n",
            "Epoch 5/10\n",
            "1875/1875 [==============================] - 6s 3ms/step - loss: 0.0280 - accuracy: 0.9910\n",
            "Epoch 6/10\n",
            "1875/1875 [==============================] - 6s 3ms/step - loss: 0.0227 - accuracy: 0.9928\n",
            "Epoch 7/10\n",
            "1875/1875 [==============================] - 6s 3ms/step - loss: 0.0168 - accuracy: 0.9947\n",
            "Epoch 8/10\n",
            "1875/1875 [==============================] - 6s 3ms/step - loss: 0.0148 - accuracy: 0.9949\n",
            "Epoch 9/10\n",
            "1875/1875 [==============================] - 6s 3ms/step - loss: 0.0123 - accuracy: 0.9959\n",
            "Epoch 10/10\n",
            "1875/1875 [==============================] - 6s 3ms/step - loss: 0.0110 - accuracy: 0.9963\n"
          ],
          "name": "stdout"
        },
        {
          "output_type": "execute_result",
          "data": {
            "text/plain": [
              "<tensorflow.python.keras.callbacks.History at 0x7fbf1d7cd780>"
            ]
          },
          "metadata": {
            "tags": []
          },
          "execution_count": 6
        }
      ]
    },
    {
      "cell_type": "code",
      "metadata": {
        "id": "0jNGP3Rsb5wy",
        "colab": {
          "base_uri": "https://localhost:8080/"
        },
        "outputId": "7339f62f-2dda-455f-a5d1-780db2a99623"
      },
      "source": [
        "y_pred=model.predict_classes(x_test)\n",
        "y_pred"
      ],
      "execution_count": 8,
      "outputs": [
        {
          "output_type": "execute_result",
          "data": {
            "text/plain": [
              "array([7, 2, 1, ..., 4, 5, 6])"
            ]
          },
          "metadata": {
            "tags": []
          },
          "execution_count": 8
        }
      ]
    },
    {
      "cell_type": "code",
      "metadata": {
        "id": "qzIO5BLPcIHq",
        "colab": {
          "base_uri": "https://localhost:8080/"
        },
        "outputId": "57724a7d-145e-461e-d528-25e8d5df161d"
      },
      "source": [
        "from sklearn.metrics import accuracy_score,confusion_matrix\n",
        "accuracy_score(y_test,y_pred)"
      ],
      "execution_count": 9,
      "outputs": [
        {
          "output_type": "execute_result",
          "data": {
            "text/plain": [
              "0.9793"
            ]
          },
          "metadata": {
            "tags": []
          },
          "execution_count": 9
        }
      ]
    },
    {
      "cell_type": "code",
      "metadata": {
        "id": "bn51MqGwcsn8",
        "colab": {
          "base_uri": "https://localhost:8080/"
        },
        "outputId": "2e9d4e2c-f7b2-4965-a6a4-4dbf7c3671ff"
      },
      "source": [
        "confusion_matrix(y_test,y_pred)"
      ],
      "execution_count": 10,
      "outputs": [
        {
          "output_type": "execute_result",
          "data": {
            "text/plain": [
              "array([[ 974,    0,    0,    0,    0,    0,    1,    3,    2,    0],\n",
              "       [   0, 1128,    1,    1,    0,    1,    2,    1,    1,    0],\n",
              "       [   5,    3,  999,    4,    1,    0,    3,   13,    3,    1],\n",
              "       [   0,    0,    2,  995,    0,    5,    0,    3,    0,    5],\n",
              "       [   2,    1,    2,    1,  958,    0,    4,    5,    0,    9],\n",
              "       [   2,    0,    0,    7,    1,  874,    3,    1,    1,    3],\n",
              "       [   3,    3,    0,    1,    2,   10,  938,    0,    1,    0],\n",
              "       [   2,    2,    4,    1,    0,    0,    0, 1011,    3,    5],\n",
              "       [  10,    1,    2,    8,    3,    5,    3,    5,  933,    4],\n",
              "       [   3,    2,    0,    2,   10,    1,    0,    8,    0,  983]])"
            ]
          },
          "metadata": {
            "tags": []
          },
          "execution_count": 10
        }
      ]
    },
    {
      "cell_type": "code",
      "metadata": {
        "id": "rmmzAWj2dDzN"
      },
      "source": [
        "model.save('mnistModel.h5')"
      ],
      "execution_count": 12,
      "outputs": []
    }
  ]
}